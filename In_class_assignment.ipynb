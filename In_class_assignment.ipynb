{
  "cells": [
    {
      "cell_type": "markdown",
      "metadata": {
        "id": "view-in-github",
        "colab_type": "text"
      },
      "source": [
        "<a href=\"https://colab.research.google.com/github/analopezgomes/In-class-assignments-/blob/main/In_class_assignment.ipynb\" target=\"_parent\"><img src=\"https://colab.research.google.com/assets/colab-badge.svg\" alt=\"Open In Colab\"/></a>"
      ]
    },
    {
      "cell_type": "markdown",
      "metadata": {
        "id": "3_WRr7l9zyDA"
      },
      "source": [
        "(08/27/24) Assignment #1: Calculate the surface area of the cylinder"
      ]
    },
    {
      "cell_type": "code",
      "execution_count": null,
      "metadata": {
        "colab": {
          "base_uri": "https://localhost:8080/"
        },
        "id": "u9-EVgKKyauM",
        "outputId": "5e1dd748-a012-49a1-9174-d9473804485d"
      },
      "outputs": [
        {
          "name": "stdout",
          "output_type": "stream",
          "text": [
            "244.92000000000002\n"
          ]
        }
      ],
      "source": [
        "r = 3\n",
        "h = 10\n",
        "pi = 3.14\n",
        "\n",
        "area = 2 * pi * r ** 2 + 2 * pi * r * h\n",
        "print(area)"
      ]
    },
    {
      "cell_type": "markdown",
      "metadata": {
        "id": "vCGfhPdDSGjy"
      },
      "source": [
        "Write a program using condition that prints out who wins the game of Rock, Paper,& Scissor.\n",
        "\n",
        "2 inputs"
      ]
    },
    {
      "cell_type": "code",
      "execution_count": null,
      "metadata": {
        "id": "PLQRlYX5UGYp"
      },
      "outputs": [],
      "source": []
    },
    {
      "cell_type": "code",
      "execution_count": 5,
      "metadata": {
        "colab": {
          "base_uri": "https://localhost:8080/"
        },
        "id": "fY9oeT-ySF3E",
        "outputId": "fb03e8c9-8e1b-4133-cb1f-1ee1791ece11"
      },
      "outputs": [
        {
          "output_type": "stream",
          "name": "stdout",
          "text": [
            "choose r, p, sr\n",
            "choose r, p , sp\n",
            "p2 wins\n"
          ]
        }
      ],
      "source": [
        "# Input\n",
        "p1 = input ('choose r, p, s')\n",
        "p2 = input('choose r, p , s')\n",
        "\n",
        "# Processing\n",
        "if p1 == p2:\n",
        "  print('Draw')\n",
        "elif (p1 == 'r' and p2 == 's') or (p1 == 's' and p2 == 'p') or (p1 == 'p' and p2 == 'r'):\n",
        "  print('p1 wins')\n",
        "else:\n",
        "  print ('p2 wins')\n",
        "# Output\n",
        "\n",
        "\n"
      ]
    }
  ],
  "metadata": {
    "colab": {
      "provenance": [],
      "authorship_tag": "ABX9TyPq2fu5P8e8EqENUxhQSuOw",
      "include_colab_link": true
    },
    "kernelspec": {
      "display_name": "Python 3",
      "name": "python3"
    },
    "language_info": {
      "name": "python"
    }
  },
  "nbformat": 4,
  "nbformat_minor": 0
}