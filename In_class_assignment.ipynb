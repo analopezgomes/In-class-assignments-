{
  "cells": [
    {
      "cell_type": "markdown",
      "metadata": {
        "id": "view-in-github",
        "colab_type": "text"
      },
      "source": [
        "<a href=\"https://colab.research.google.com/github/analopezgomes/In-class-assignments-/blob/main/In_class_assignment.ipynb\" target=\"_parent\"><img src=\"https://colab.research.google.com/assets/colab-badge.svg\" alt=\"Open In Colab\"/></a>"
      ]
    },
    {
      "cell_type": "markdown",
      "metadata": {
        "id": "3_WRr7l9zyDA"
      },
      "source": [
        "(08/27/24) Assignment #1: Calculate the surface area of the cylinder"
      ]
    },
    {
      "cell_type": "code",
      "execution_count": null,
      "metadata": {
        "colab": {
          "base_uri": "https://localhost:8080/"
        },
        "id": "u9-EVgKKyauM",
        "outputId": "5e1dd748-a012-49a1-9174-d9473804485d"
      },
      "outputs": [
        {
          "name": "stdout",
          "output_type": "stream",
          "text": [
            "244.92000000000002\n"
          ]
        }
      ],
      "source": [
        "r = 3\n",
        "h = 10\n",
        "pi = 3.14\n",
        "\n",
        "area = 2 * pi * r ** 2 + 2 * pi * r * h\n",
        "print(area)"
      ]
    },
    {
      "cell_type": "markdown",
      "metadata": {
        "id": "vCGfhPdDSGjy"
      },
      "source": [
        "(09/06/24) Assignment #2: Write a program using condition that prints out who wins the game of Rock, Paper,& Scissor.\n"
      ]
    },
    {
      "cell_type": "code",
      "execution_count": null,
      "metadata": {
        "colab": {
          "base_uri": "https://localhost:8080/"
        },
        "id": "fY9oeT-ySF3E",
        "outputId": "fb03e8c9-8e1b-4133-cb1f-1ee1791ece11"
      },
      "outputs": [
        {
          "output_type": "stream",
          "name": "stdout",
          "text": [
            "choose r, p, sr\n",
            "choose r, p , sp\n",
            "p2 wins\n"
          ]
        }
      ],
      "source": [
        "# Input\n",
        "p1 = input ('choose r, p, s')\n",
        "p2 = input('choose r, p , s')\n",
        "\n",
        "# Processing\n",
        "if p1 == p2:\n",
        "  print('Draw')\n",
        "elif (p1 == 'r' and p2 == 's') or (p1 == 's' and p2 == 'p') or (p1 == 'p' and p2 == 'r'):\n",
        "  print('p1 wins')\n",
        "else:\n",
        "  print ('p2 wins')\n",
        "# Output\n",
        "\n",
        "\n"
      ]
    },
    {
      "cell_type": "markdown",
      "source": [
        "(09/09/24) Assignment #3 : Write a program that is a calculator.\n",
        "- takes 2 inputs"
      ],
      "metadata": {
        "id": "yXWrplBX9Jka"
      }
    },
    {
      "cell_type": "code",
      "source": [
        "#Input\n",
        "n1 = float(input('choose a number'))\n",
        "n2 = float(input('choose a number'))\n",
        "symbol = input('choose operation')\n",
        "\n",
        "#Process\n",
        "if (symbol == '+'):\n",
        "  print(n1+n2)\n",
        "\n",
        "elif (symbol == '-'):\n",
        "  print: (n1-n2)\n",
        "\n",
        "elif (symbol == '/'):\n",
        "  print(n1/n2)\n",
        "\n",
        "elif (symbol == '*'):\n",
        "  print (n1*n2)\n",
        "\n",
        "elif (symbol == '**'):\n",
        "  print(n1**n2)\n"
      ],
      "metadata": {
        "colab": {
          "base_uri": "https://localhost:8080/"
        },
        "id": "KEFdFASo9S9b",
        "outputId": "87cef2a1-9d0c-479b-cd53-79c4e87ddcbd"
      },
      "execution_count": null,
      "outputs": [
        {
          "output_type": "stream",
          "name": "stdout",
          "text": [
            "choose a number2\n",
            "choose a number2\n",
            "choose operation**\n",
            "4.0\n"
          ]
        }
      ]
    },
    {
      "cell_type": "markdown",
      "source": [
        "(09/17/24) Assignment #4 : While loop game of rock, paper, scissors"
      ],
      "metadata": {
        "id": "xEynQJYwDMSS"
      }
    },
    {
      "cell_type": "code",
      "source": [
        "c = input('Do you want to play a game?')\n",
        "\n",
        "while c == 'yes':\n",
        "  p1 = input ('choose r, p, s')\n",
        "  p2 = input('choose r, p , s')\n",
        "\n",
        "  if p1 == p2:\n",
        "    print('Draw')\n",
        "  elif (p1 == 'r' and p2 == 's') or (p1 == 's' and p2 == 'p') or (p1 == 'p' and p2 == 'r'):\n",
        "    print('p1 wins')\n",
        "  else:\n",
        "    print ('p2 wins')\n",
        "  c = input('Do you want to play a game?')"
      ],
      "metadata": {
        "id": "GN3Cw6wVDJ-A"
      },
      "execution_count": null,
      "outputs": []
    },
    {
      "cell_type": "markdown",
      "source": [
        "A parking garage charges $5 plus $2.50 for each hour parked. The minimum fee is $10 and the maximum fee is $20.\n",
        "\n",
        "Write a program that generates a table with hours parked and the corresponding fee, from 1 to 8 hours.\n"
      ],
      "metadata": {
        "id": "gCze5C8ZDdm4"
      }
    },
    {
      "cell_type": "code",
      "source": [
        "flat_rate = 5\n",
        "for t in range(1,9):\n",
        "  charge = flat_rate + 2.5 * t\n",
        "  if charge < 10:\n",
        "    charge = 10\n",
        "  elif charge > 20:\n",
        "    charge = 20\n",
        "  print(t, charge)\n"
      ],
      "metadata": {
        "colab": {
          "base_uri": "https://localhost:8080/"
        },
        "id": "bx2UUsikEd8A",
        "outputId": "3ad6e121-258f-4915-e8ea-09acfedae053"
      },
      "execution_count": null,
      "outputs": [
        {
          "output_type": "stream",
          "name": "stdout",
          "text": [
            "1 10\n",
            "2 10.0\n",
            "3 12.5\n",
            "4 15.0\n",
            "5 17.5\n",
            "6 20.0\n",
            "7 20\n",
            "8 20\n"
          ]
        }
      ]
    },
    {
      "cell_type": "markdown",
      "source": [
        "09/19/24 Assignment #5\n",
        "\n",
        "A movie theater manager is deciding how much to spend on advertising for an upcoming movie. Each ticket is $10. Without any advertising, 20 people are forecasted to attend. Additional people may attend based on advertising spending, estimated to be:\n",
        "  Additional attendees = 2 x round (advertisingDollars^.5)\n",
        "In addition to advertising costs, there are fixed costs to run the theater of $200\n",
        "\n",
        "Write a program to geenerate a table for different advertising amounts and benefits"
      ],
      "metadata": {
        "id": "7iMsofW6KawU"
      }
    },
    {
      "cell_type": "code",
      "source": [
        "ticket_price = 10\n",
        "fixed_cost = 200\n",
        "standard_Attendees = 20\n",
        "\n",
        "for ad in range(0,201,25):\n",
        "  profit = 10 * (standard_Attendees + 2 * round(ad ** 0.5)) - fixed_cost - ad\n",
        "  print(ad, profit)\n"
      ],
      "metadata": {
        "colab": {
          "base_uri": "https://localhost:8080/"
        },
        "id": "Qd1YlIfXLZXe",
        "outputId": "61a8e6e7-d296-400e-e803-3f296a599faf"
      },
      "execution_count": 10,
      "outputs": [
        {
          "output_type": "stream",
          "name": "stdout",
          "text": [
            "0 0\n",
            "25 75\n",
            "50 90\n",
            "75 105\n",
            "100 100\n",
            "125 95\n",
            "150 90\n",
            "175 85\n",
            "200 80\n"
          ]
        }
      ]
    },
    {
      "cell_type": "code",
      "source": [
        "ticket_price = 10\n",
        "fixed_cost = 200\n",
        "standard_Attendees = 20\n",
        "#define the variable ad\n",
        "ad = 0\n",
        "\n",
        "while ad < 201:\n",
        "  profit = 10 * (standard_Attendees + 2 * round(ad ** 0.5)) - fixed_cost - ad\n",
        "  ad = ad + 25\n",
        "  print (ad,profit)"
      ],
      "metadata": {
        "colab": {
          "base_uri": "https://localhost:8080/"
        },
        "id": "4JWnbGY_Rv0A",
        "outputId": "514d7033-9194-4049-e6a9-77bc600fa5e0"
      },
      "execution_count": 14,
      "outputs": [
        {
          "output_type": "stream",
          "name": "stdout",
          "text": [
            "25 0\n",
            "50 75\n",
            "75 90\n",
            "100 105\n",
            "125 100\n",
            "150 95\n",
            "175 90\n",
            "200 85\n",
            "225 80\n"
          ]
        }
      ]
    }
  ],
  "metadata": {
    "colab": {
      "provenance": [],
      "authorship_tag": "ABX9TyN6F3utfZVaU4HEBvHQHmmI",
      "include_colab_link": true
    },
    "kernelspec": {
      "display_name": "Python 3",
      "name": "python3"
    },
    "language_info": {
      "name": "python"
    }
  },
  "nbformat": 4,
  "nbformat_minor": 0
}