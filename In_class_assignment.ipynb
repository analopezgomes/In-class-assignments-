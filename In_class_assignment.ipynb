{
  "cells": [
    {
      "cell_type": "markdown",
      "metadata": {
        "id": "view-in-github",
        "colab_type": "text"
      },
      "source": [
        "<a href=\"https://colab.research.google.com/github/analopezgomes/In-class-assignments-/blob/main/In_class_assignment.ipynb\" target=\"_parent\"><img src=\"https://colab.research.google.com/assets/colab-badge.svg\" alt=\"Open In Colab\"/></a>"
      ]
    },
    {
      "cell_type": "markdown",
      "metadata": {
        "id": "3_WRr7l9zyDA"
      },
      "source": [
        "(08/27/24) Assignment #1: Calculate the surface area of the cylinder"
      ]
    },
    {
      "cell_type": "code",
      "execution_count": null,
      "metadata": {
        "colab": {
          "base_uri": "https://localhost:8080/"
        },
        "id": "u9-EVgKKyauM",
        "outputId": "5e1dd748-a012-49a1-9174-d9473804485d"
      },
      "outputs": [
        {
          "name": "stdout",
          "output_type": "stream",
          "text": [
            "244.92000000000002\n"
          ]
        }
      ],
      "source": [
        "r = 3\n",
        "h = 10\n",
        "pi = 3.14\n",
        "\n",
        "area = 2 * pi * r ** 2 + 2 * pi * r * h\n",
        "print(area)"
      ]
    },
    {
      "cell_type": "markdown",
      "metadata": {
        "id": "vCGfhPdDSGjy"
      },
      "source": [
        "(09/06/24) Assignment #2: Write a program using condition that prints out who wins the game of Rock, Paper,& Scissor.\n"
      ]
    },
    {
      "cell_type": "code",
      "execution_count": null,
      "metadata": {
        "colab": {
          "base_uri": "https://localhost:8080/"
        },
        "id": "fY9oeT-ySF3E",
        "outputId": "fb03e8c9-8e1b-4133-cb1f-1ee1791ece11"
      },
      "outputs": [
        {
          "output_type": "stream",
          "name": "stdout",
          "text": [
            "choose r, p, sr\n",
            "choose r, p , sp\n",
            "p2 wins\n"
          ]
        }
      ],
      "source": [
        "# Input\n",
        "p1 = input ('choose r, p, s')\n",
        "p2 = input('choose r, p , s')\n",
        "\n",
        "# Processing\n",
        "if p1 == p2:\n",
        "  print('Draw')\n",
        "elif (p1 == 'r' and p2 == 's') or (p1 == 's' and p2 == 'p') or (p1 == 'p' and p2 == 'r'):\n",
        "  print('p1 wins')\n",
        "else:\n",
        "  print ('p2 wins')\n",
        "# Output\n",
        "\n",
        "\n"
      ]
    },
    {
      "cell_type": "markdown",
      "source": [
        "(09/09/24) Assignment #3 : Write a program that is a calculator.\n",
        "- takes 2 inputs"
      ],
      "metadata": {
        "id": "yXWrplBX9Jka"
      }
    },
    {
      "cell_type": "code",
      "source": [
        "#Input\n",
        "n1 = float(input('choose a number'))\n",
        "n2 = float(input('choose a number'))\n",
        "symbol = input('choose operation')\n",
        "\n",
        "#Process\n",
        "if (symbol == '+'):\n",
        "  print(n1+n2)\n",
        "\n",
        "elif (symbol == '-'):\n",
        "  print: (n1-n2)\n",
        "\n",
        "elif (symbol == '/'):\n",
        "  print(n1/n2)\n",
        "\n",
        "elif (symbol == '*'):\n",
        "  print (n1*n2)\n",
        "\n",
        "elif (symbol == '**'):\n",
        "  print(n1**n2)\n"
      ],
      "metadata": {
        "colab": {
          "base_uri": "https://localhost:8080/"
        },
        "id": "KEFdFASo9S9b",
        "outputId": "87cef2a1-9d0c-479b-cd53-79c4e87ddcbd"
      },
      "execution_count": null,
      "outputs": [
        {
          "output_type": "stream",
          "name": "stdout",
          "text": [
            "choose a number2\n",
            "choose a number2\n",
            "choose operation**\n",
            "4.0\n"
          ]
        }
      ]
    },
    {
      "cell_type": "markdown",
      "source": [
        "(09/17/24) Assignment #4 : While loop game of rock, paper, scissors"
      ],
      "metadata": {
        "id": "xEynQJYwDMSS"
      }
    },
    {
      "cell_type": "code",
      "source": [
        "c = input('Do you want to play a game?')\n",
        "\n",
        "while c == 'yes':\n",
        "  p1 = input ('choose r, p, s')\n",
        "  p2 = input('choose r, p , s')\n",
        "\n",
        "  if p1 == p2:\n",
        "    print('Draw')\n",
        "  elif (p1 == 'r' and p2 == 's') or (p1 == 's' and p2 == 'p') or (p1 == 'p' and p2 == 'r'):\n",
        "    print('p1 wins')\n",
        "  else:\n",
        "    print ('p2 wins')\n",
        "  c = input('Do you want to play a game?')"
      ],
      "metadata": {
        "id": "GN3Cw6wVDJ-A"
      },
      "execution_count": null,
      "outputs": []
    },
    {
      "cell_type": "markdown",
      "source": [
        "A parking garage charges $5 plus $2.50 for each hour parked. The minimum fee is $10 and the maximum fee is $20.\n",
        "\n",
        "Write a program that generates a table with hours parked and the corresponding fee, from 1 to 8 hours.\n"
      ],
      "metadata": {
        "id": "gCze5C8ZDdm4"
      }
    },
    {
      "cell_type": "code",
      "source": [
        "flat_rate = 5\n",
        "for t in range(1,9):\n",
        "  charge = flat_rate + 2.5 * t\n",
        "  if charge < 10:\n",
        "    charge = 10\n",
        "  elif charge > 20:\n",
        "    charge = 20\n",
        "  print(t, charge)\n"
      ],
      "metadata": {
        "colab": {
          "base_uri": "https://localhost:8080/"
        },
        "id": "bx2UUsikEd8A",
        "outputId": "3ad6e121-258f-4915-e8ea-09acfedae053"
      },
      "execution_count": null,
      "outputs": [
        {
          "output_type": "stream",
          "name": "stdout",
          "text": [
            "1 10\n",
            "2 10.0\n",
            "3 12.5\n",
            "4 15.0\n",
            "5 17.5\n",
            "6 20.0\n",
            "7 20\n",
            "8 20\n"
          ]
        }
      ]
    },
    {
      "cell_type": "markdown",
      "source": [
        "09/19/24 Assignment #5\n",
        "\n",
        "A movie theater manager is deciding how much to spend on advertising for an upcoming movie. Each ticket is $10. Without any advertising, 20 people are forecasted to attend. Additional people may attend based on advertising spending, estimated to be:\n",
        "  Additional attendees = 2 x round (advertisingDollars^.5)\n",
        "In addition to advertising costs, there are fixed costs to run the theater of $200\n",
        "\n",
        "Write a program to geenerate a table for different advertising amounts and benefits"
      ],
      "metadata": {
        "id": "7iMsofW6KawU"
      }
    },
    {
      "cell_type": "code",
      "source": [
        "ticket_price = 10\n",
        "fixed_cost = 200\n",
        "standard_Attendees = 20\n",
        "\n",
        "for ad in range(0,201,25):\n",
        "  profit = 10 * (standard_Attendees + 2 * round(ad ** 0.5)) - fixed_cost - ad\n",
        "  print(ad, profit)\n"
      ],
      "metadata": {
        "colab": {
          "base_uri": "https://localhost:8080/"
        },
        "id": "Qd1YlIfXLZXe",
        "outputId": "61a8e6e7-d296-400e-e803-3f296a599faf"
      },
      "execution_count": null,
      "outputs": [
        {
          "output_type": "stream",
          "name": "stdout",
          "text": [
            "0 0\n",
            "25 75\n",
            "50 90\n",
            "75 105\n",
            "100 100\n",
            "125 95\n",
            "150 90\n",
            "175 85\n",
            "200 80\n"
          ]
        }
      ]
    },
    {
      "cell_type": "code",
      "source": [
        "ticket_price = 10\n",
        "fixed_cost = 200\n",
        "standard_Attendees = 20\n",
        "#define the variable ad\n",
        "ad = 0\n",
        "\n",
        "while ad < 201:\n",
        "  profit = 10 * (standard_Attendees + 2 * round(ad ** 0.5)) - fixed_cost - ad\n",
        "  ad = ad + 25\n",
        "  print (ad,profit)"
      ],
      "metadata": {
        "colab": {
          "base_uri": "https://localhost:8080/"
        },
        "id": "4JWnbGY_Rv0A",
        "outputId": "514d7033-9194-4049-e6a9-77bc600fa5e0"
      },
      "execution_count": null,
      "outputs": [
        {
          "output_type": "stream",
          "name": "stdout",
          "text": [
            "25 0\n",
            "50 75\n",
            "75 90\n",
            "100 105\n",
            "125 100\n",
            "150 95\n",
            "175 90\n",
            "200 85\n",
            "225 80\n"
          ]
        }
      ]
    },
    {
      "cell_type": "markdown",
      "source": [],
      "metadata": {
        "id": "B1P8jxfgHEUc"
      }
    },
    {
      "cell_type": "markdown",
      "source": [
        "10/1 Assignment #7"
      ],
      "metadata": {
        "id": "NR2pqpJ7Fbea"
      }
    },
    {
      "cell_type": "code",
      "source": [
        "months = { }\n",
        "\n",
        "names = ['Jan', 'Feb', 'Mar', 'Apr', 'May', 'Jun','Jul', 'Aug', 'Sep', 'Oct', 'Nov', 'Dec']\n",
        "\n",
        "numbers = [1,2,3,4,5,6,7,8,9,10,11,12]\n",
        "\n",
        "for i in range(0,12):\n",
        "  months[numbers[i]]= names[i]\n",
        "\n",
        "print(months)"
      ],
      "metadata": {
        "colab": {
          "base_uri": "https://localhost:8080/"
        },
        "id": "yJSip7twFdZb",
        "outputId": "b81dff9b-6f58-4db6-c276-0ea299787db0"
      },
      "execution_count": null,
      "outputs": [
        {
          "output_type": "stream",
          "name": "stdout",
          "text": [
            "{1: 'Jan', 2: 'Feb', 3: 'Mar', 4: 'Apr', 5: 'May', 6: 'Jun', 7: 'Jul', 8: 'Aug', 9: 'Sep', 10: 'Oct', 11: 'Nov', 12: 'Dec'}\n"
          ]
        }
      ]
    },
    {
      "cell_type": "markdown",
      "source": [
        "Result:\n",
        "\n",
        "{1: 'Jan', 2:'Feb',...}"
      ],
      "metadata": {
        "id": "zo90hdq6GKYG"
      }
    },
    {
      "cell_type": "code",
      "source": [
        "def adder(a, b):\n",
        "  res = a + b\n",
        "  return res"
      ],
      "metadata": {
        "id": "jpFprQI8M6P5"
      },
      "execution_count": null,
      "outputs": []
    },
    {
      "cell_type": "code",
      "source": [
        "x = 3\n",
        "y = 2.5\n",
        "\n",
        "adder(x, y) #this is a function call\n",
        "#when you call a function you provide inputs which is what's inside the parenthesis\n",
        "\n",
        "z = adder(b=y, a=x)\n",
        "print(z)"
      ],
      "metadata": {
        "colab": {
          "base_uri": "https://localhost:8080/"
        },
        "id": "qDaEn8EkcOwL",
        "outputId": "2b6af5bf-e059-4edb-f0c8-ddecbaaa3ba8"
      },
      "execution_count": null,
      "outputs": [
        {
          "output_type": "stream",
          "name": "stdout",
          "text": [
            "5.5\n"
          ]
        }
      ]
    },
    {
      "cell_type": "code",
      "source": [
        "def range_check(num, low, high):\n",
        "  if low <= num and num <= high:\n",
        "    return True\n",
        "  else:\n",
        "    return False\n",
        "\n",
        "print(range_check(2,1,3))"
      ],
      "metadata": {
        "colab": {
          "base_uri": "https://localhost:8080/"
        },
        "id": "EU9-zoDGgDgD",
        "outputId": "eec0ff39-24b5-4f0b-bd93-2a3b0e3c91ff"
      },
      "execution_count": null,
      "outputs": [
        {
          "output_type": "stream",
          "name": "stdout",
          "text": [
            "True\n"
          ]
        }
      ]
    },
    {
      "cell_type": "code",
      "source": [
        "def range_check(num, rn):\n",
        "  if num in rn:\n",
        "    return True\n",
        "  else:\n",
        "    return False\n",
        "\n",
        "print(range_check(rn=range(1,4), num=2))"
      ],
      "metadata": {
        "colab": {
          "base_uri": "https://localhost:8080/"
        },
        "id": "MfZPkNMujFux",
        "outputId": "02766626-784f-4a1a-82f3-4f298b706247"
      },
      "execution_count": null,
      "outputs": [
        {
          "output_type": "stream",
          "name": "stdout",
          "text": [
            "True\n"
          ]
        }
      ]
    },
    {
      "cell_type": "code",
      "source": [
        "def adder(a, b):\n",
        "  print('Inside the function')\n",
        "  res = a + b\n",
        "  return res\n",
        "\n",
        "x = 3\n",
        "y = 2.5\n",
        "\n",
        "adder(x, y)\n",
        "\n",
        "z = x + y\n",
        "print(z)"
      ],
      "metadata": {
        "colab": {
          "base_uri": "https://localhost:8080/"
        },
        "id": "xS9gxCwDj_UL",
        "outputId": "af6dfb66-52cb-48f1-a929-8571059fbd0b"
      },
      "execution_count": null,
      "outputs": [
        {
          "output_type": "stream",
          "name": "stdout",
          "text": [
            "Inside the function\n",
            "5.5\n"
          ]
        }
      ]
    },
    {
      "cell_type": "code",
      "source": [
        "def inputs():\n",
        "  salary = float(input('Enter salary:'))\n",
        "  portion = float(input('Enter portion to be saved:'))\n",
        "  total_cost = float(input('Enter total cost:'))\n",
        "\n",
        "  return salary, portion,total_cost\n"
      ],
      "metadata": {
        "id": "6JRwcDmlkZjk"
      },
      "execution_count": null,
      "outputs": []
    },
    {
      "cell_type": "code",
      "source": [
        "return salary, portion,total_cost = inputs()\n",
        "\n",
        "months = 0\n",
        "amount = 0"
      ],
      "metadata": {
        "colab": {
          "base_uri": "https://localhost:8080/",
          "height": 108
        },
        "id": "Ft82EjCAlbcA",
        "outputId": "836c221b-22f3-4ecb-e1fe-ad6c25781585"
      },
      "execution_count": null,
      "outputs": [
        {
          "output_type": "error",
          "ename": "SyntaxError",
          "evalue": "invalid syntax (<ipython-input-14-e9b03c9711a1>, line 1)",
          "traceback": [
            "\u001b[0;36m  File \u001b[0;32m\"<ipython-input-14-e9b03c9711a1>\"\u001b[0;36m, line \u001b[0;32m1\u001b[0m\n\u001b[0;31m    return salary, portion,total_cost = inputs()\u001b[0m\n\u001b[0m                                      ^\u001b[0m\n\u001b[0;31mSyntaxError\u001b[0m\u001b[0;31m:\u001b[0m invalid syntax\n"
          ]
        }
      ]
    },
    {
      "cell_type": "markdown",
      "source": [
        "10/22 Assignment\n",
        "\n",
        "A parking garage charges $5 plus $2.50 for each hour parked. Write a program that:\n",
        "- Prompts for the number of hours parked\n",
        "- Calculates and displays the parking fee charged\n",
        "\n",
        "As part of your program, define a function that calculates the parking fee given a number of hours. Use the signature: def calcFee(hours)\n",
        "\n"
      ],
      "metadata": {
        "id": "5XOcvQ9JNI2a"
      }
    },
    {
      "cell_type": "code",
      "source": [
        "def calcFee(hours):\n",
        "  fee = 5 + hours * 2.5\n",
        "  return fee\n",
        "\n",
        "h = int(input('Enter number of hours:'))\n",
        "fee = calcFee(h)\n",
        "print(fee)\n"
      ],
      "metadata": {
        "colab": {
          "base_uri": "https://localhost:8080/"
        },
        "id": "Qx9-pzEGNILR",
        "outputId": "ed29e9a6-e8a3-4f9a-e838-7deacba02530"
      },
      "execution_count": null,
      "outputs": [
        {
          "output_type": "stream",
          "name": "stdout",
          "text": [
            "Enter number of hours:4\n",
            "15.0\n"
          ]
        }
      ]
    },
    {
      "cell_type": "markdown",
      "source": [
        "-Define and call a function that displays the result, with the signature:\n",
        "displayFee(fee)\n",
        "-Refine the signature for calcFee(), to include a named parameter, decimals, which controls the rounding on the calculated fee. The signature should be:\n",
        "\n",
        "def calcFee(hours, decimals=2)"
      ],
      "metadata": {
        "id": "IGV5T-usRzNZ"
      }
    },
    {
      "cell_type": "code",
      "source": [
        "def displayFee(fee):\n",
        "  print(fee)\n",
        "\n",
        "def calcFee(hours, decimals = 2):\n",
        "  fee = 5 + hours * 2.5\n",
        "  fee = round(fee,decimals)\n",
        "  return fee\n",
        "\n",
        "\n",
        "h = int(input('Enter number of hours:'))\n",
        "fee = calcFee(h)\n",
        "displayFee(fee)"
      ],
      "metadata": {
        "colab": {
          "base_uri": "https://localhost:8080/"
        },
        "id": "0k79ZnGbSEbu",
        "outputId": "b930fec5-3fbe-4ff3-ff70-5add03662116"
      },
      "execution_count": null,
      "outputs": [
        {
          "output_type": "stream",
          "name": "stdout",
          "text": [
            "Enter number of hours:4\n",
            "15.0\n"
          ]
        }
      ]
    },
    {
      "cell_type": "markdown",
      "source": [
        "Assignmet Oct 29"
      ],
      "metadata": {
        "id": "Fs7xEetXWtnq"
      }
    },
    {
      "cell_type": "code",
      "source": [
        "def rev(s):\n",
        "  if len(s) == 1:\n",
        "    return s\n",
        "  else:\n",
        "    return rev(s[1:])+s[0]\n",
        "\n",
        "print(rev('HELLO'))"
      ],
      "metadata": {
        "colab": {
          "base_uri": "https://localhost:8080/"
        },
        "id": "ghdOHcAcUnj-",
        "outputId": "4a345348-d8c5-4901-ada9-301d11ad0fc9"
      },
      "execution_count": 1,
      "outputs": [
        {
          "output_type": "stream",
          "name": "stdout",
          "text": [
            "OLLEH\n"
          ]
        }
      ]
    }
  ],
  "metadata": {
    "colab": {
      "provenance": [],
      "authorship_tag": "ABX9TyPpPVccx0u34fXzKWEZskF2",
      "include_colab_link": true
    },
    "kernelspec": {
      "display_name": "Python 3",
      "name": "python3"
    },
    "language_info": {
      "name": "python"
    }
  },
  "nbformat": 4,
  "nbformat_minor": 0
}